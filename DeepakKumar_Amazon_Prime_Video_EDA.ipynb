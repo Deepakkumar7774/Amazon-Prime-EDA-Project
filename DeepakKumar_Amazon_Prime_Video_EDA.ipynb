{
  "cells": [
    {
      "cell_type": "markdown",
      "metadata": {
        "id": "I1apcow5dxii"
      },
      "source": [
        "#### **Amazon Prime Exploratory Data Analysis Project**"
      ]
    },
    {
      "cell_type": "markdown",
      "metadata": {
        "id": "vncDsAP0Gaoa"
      },
      "source": [
        "# **Project Name**    - Amazon Prime EDA\n",
        "\n"
      ]
    },
    {
      "cell_type": "markdown",
      "metadata": {
        "id": "beRrZCGUAJYm"
      },
      "source": [
        "##### **Project Type**    - EDA\n",
        "##### **Contribution**    - Individual\n",
        "##### **Name**            - Deepak Kumar\n"
      ]
    },
    {
      "cell_type": "markdown",
      "metadata": {
        "id": "FJNUwmbgGyua"
      },
      "source": [
        "# **Project Summary -**"
      ]
    },
    {
      "cell_type": "markdown",
      "metadata": {
        "id": "F6v_1wHtG2nS"
      },
      "source": [
        "####Project Summary: Amazon Prime TV Shows and Movies - Exploratory Data Analysis (EDA) 🎬📊\n",
        "\n",
        "#### Overview 🌐\n",
        "\n",
        "This project focuses on conducting an Exploratory Data Analysis (EDA) of Amazon Prime Video’s content library to uncover trends, patterns, and insights into content distribution, audience preferences, and platform strategy. The dataset includes movies 🎥 and TV shows 📺 available in the U.S., featuring both categorical and numerical attributes. we have 2 datasets out of which one contains details about titles and other one contains details for credits.\n",
        "We have to do exploratory data analysis for these two datasets to get insights of data with which we can analyze the trends, most preferred content, strategies for the content artists to invest in and customer engagement and retension rate.\n",
        "\n",
        "#### Key Insights 🔍✨\n",
        "\n",
        "1. Content Distribution 📈\n",
        "Analyzed the proportion of movies 🎥 vs. TV shows 📺 to understand the platform's content mix.\n",
        "\n",
        "Identified the dominant type of content and its implications for audience engagement.\n",
        "\n",
        "2. Genre Trends 🎭\n",
        "Explored the most popular genres using bar charts 📊 and word clouds ☁️.\n",
        "\n",
        "Highlighted the genres that dominate the platform and their potential appeal to viewers.\n",
        "\n",
        "3. Release Year Patterns 📅\n",
        "Investigated trends in content addition over time, focusing on release years.\n",
        "\n",
        "Identified periods of peak content production and addition to the platform.\n",
        "\n",
        "4. IMDb Ratings & Popularity ⭐📈\n",
        "Analyzed the relationship between IMDb ratings ⭐ and audience engagement (e.g., votes).\n",
        "\n",
        "Visualized trends using scatter plots 📉 to understand how ratings correlate with popularity.\n",
        "\n",
        "5. Top Actors & Directors 🎭🎬\n",
        "Identified the most frequently credited actors 🎭 and filmmakers 🎬.\n",
        "\n",
        "Created visualizations to highlight key contributors to the platform’s content library.\n",
        "\n",
        "#### Visualizations 🎨📊\n",
        "\n",
        "To effectively communicate insights, the following visualizations were employed:\n",
        "\n",
        "Bar Charts & Histograms 📊: To analyze genre distribution and IMDb rating trends.\n",
        "\n",
        "Scatter Plots 📉: To explore the relationship between ratings and audience votes.\n",
        "\n",
        "Heatmaps 🔥: To uncover correlations between key variables.\n",
        "\n",
        "Network Graphs 🕸️: To visualize connections between actors and their collaborations."
      ]
    },
    {
      "cell_type": "markdown",
      "metadata": {
        "id": "w6K7xa23Elo4"
      },
      "source": [
        "# **GitHub Link -**"
      ]
    },
    {
      "cell_type": "markdown",
      "metadata": {
        "id": "h1o69JH3Eqqn"
      },
      "source": [
        "#### https://github.com/Deepakkumar7774/Amazon-Prime-EDA-Project"
      ]
    },
    {
      "cell_type": "markdown",
      "metadata": {
        "id": "yQaldy8SH6Dl"
      },
      "source": [
        "# **Problem Statement**\n"
      ]
    },
    {
      "cell_type": "markdown",
      "metadata": {
        "id": "DpeJGUA3kjGy"
      },
      "source": [
        "**There are 2 datasets from amazon prime video which are to be analyzed through EDA to draw conclusions for various business problems ?**"
      ]
    },
    {
      "cell_type": "markdown",
      "metadata": {
        "id": "PH-0ReGfmX4f"
      },
      "source": [
        "#### **Define Your Business Objective?**"
      ]
    },
    {
      "cell_type": "markdown",
      "metadata": {
        "id": "PhDvGCAqmjP1"
      },
      "source": [
        "**The business objective for amazon prime video datasets are as follows:-**\n",
        "\n",
        "1) To analyze the trends of the content considering diversity and time period.\n",
        "2) To analyze customer engagement and restention rate based on their preference of watching and choosing the content.\n",
        "3) To analyze the regional availability and customer engagement on regional content.\n",
        "4) To analyze change in customer preference over a period of specific time.\n",
        "5) To analyze which genres of movies and series are mostly preferred by customers.\n",
        "6) To analyze which strategies and future investments will help company to get more profits with more customer engagement."
      ]
    },
    {
      "cell_type": "markdown",
      "metadata": {
        "id": "Y3lxredqlCYt"
      },
      "source": [
        "### Import Libraries"
      ]
    },
    {
      "cell_type": "code",
      "execution_count": null,
      "metadata": {
        "id": "M8Vqi-pPk-HR"
      },
      "outputs": [],
      "source": [
        "# Import Libraries\n",
        "\n",
        "import pandas as pd\n",
        "import numpy as np\n",
        "import seaborn as sns\n",
        "import matplotlib.pyplot as plt\n",
        "import matplotlib.cm as cm\n",
        "import random\n",
        "from wordcloud import WordCloud\n",
        "import ast"
      ]
    },
    {
      "cell_type": "markdown",
      "metadata": {
        "id": "3RnN4peoiCZX"
      },
      "source": [
        "### Dataset Loading"
      ]
    },
    {
      "cell_type": "code",
      "execution_count": null,
      "metadata": {
        "id": "4CkvbW_SlZ_R"
      },
      "outputs": [],
      "source": [
        "# Load Dataset\n",
        "\n",
        "titles = pd.read_csv(\"/content/titles.csv\")\n",
        "credits = pd.read_csv(\"/content/credits.csv\")"
      ]
    },
    {
      "cell_type": "markdown",
      "metadata": {
        "id": "vmTGjMxuHHfj"
      },
      "source": [
        "### Dataset Merged"
      ]
    },
    {
      "cell_type": "code",
      "execution_count": null,
      "metadata": {
        "id": "EpE7l4_LHHfj"
      },
      "outputs": [],
      "source": [
        "md = pd.merge(titles,credits, on = 'id', how = 'outer')"
      ]
    },
    {
      "cell_type": "markdown",
      "metadata": {
        "id": "x71ZqKXriCWQ"
      },
      "source": [
        "### Dataset First View"
      ]
    },
    {
      "cell_type": "code",
      "execution_count": null,
      "metadata": {
        "id": "LWNFOSvLl09H"
      },
      "outputs": [],
      "source": [
        "# Dataset First Look\n",
        "md.head()"
      ]
    },
    {
      "cell_type": "markdown",
      "metadata": {
        "id": "7hBIi_osiCS2"
      },
      "source": [
        "### Dataset Rows & Columns count"
      ]
    },
    {
      "cell_type": "code",
      "execution_count": null,
      "metadata": {
        "id": "Kllu7SJgmLij"
      },
      "outputs": [],
      "source": [
        "# Dataset Rows & Columns count\n",
        "md.shape"
      ]
    },
    {
      "cell_type": "markdown",
      "metadata": {
        "id": "JlHwYmJAmNHm"
      },
      "source": [
        "### Dataset Information"
      ]
    },
    {
      "cell_type": "code",
      "execution_count": null,
      "metadata": {
        "id": "e9hRXRi6meOf"
      },
      "outputs": [],
      "source": [
        "# Dataset Info\n",
        "md.info()"
      ]
    },
    {
      "cell_type": "markdown",
      "metadata": {
        "id": "Q3ujjY-VHHfk"
      },
      "source": [
        "### Data Description"
      ]
    },
    {
      "cell_type": "code",
      "execution_count": null,
      "metadata": {
        "id": "Ovq8tIaVHHfk"
      },
      "outputs": [],
      "source": [
        "md.describe()"
      ]
    },
    {
      "cell_type": "markdown",
      "metadata": {
        "id": "35m5QtbWiB9F"
      },
      "source": [
        "#### Duplicate Values"
      ]
    },
    {
      "cell_type": "code",
      "execution_count": null,
      "metadata": {
        "id": "1sLdpKYkmox0"
      },
      "outputs": [],
      "source": [
        "# Dataset Duplicate Value Count\n",
        "# Check for duplicate values\n",
        "duplicates = md.duplicated(keep=False)\n",
        "\n",
        "# Count the duplicate values\n",
        "duplicate_count = duplicates.value_counts()\n",
        "\n",
        "print(duplicate_count)"
      ]
    },
    {
      "cell_type": "markdown",
      "metadata": {
        "id": "pwW_Z6tuHHfl"
      },
      "source": [
        "### Removing Duplicates"
      ]
    },
    {
      "cell_type": "code",
      "execution_count": null,
      "metadata": {
        "id": "p0PDQX_fHHfl"
      },
      "outputs": [],
      "source": [
        "md.drop_duplicates([\"id\"],keep='first',inplace=True)"
      ]
    },
    {
      "cell_type": "markdown",
      "metadata": {
        "id": "F70Fry9KHHfl"
      },
      "source": [
        "### Confirming that the duplicate values are removed"
      ]
    },
    {
      "cell_type": "code",
      "execution_count": null,
      "metadata": {
        "id": "OKIKmPYBHHfl"
      },
      "outputs": [],
      "source": [
        "# Check for duplicate values\n",
        "duplicates = md.duplicated(keep=False)\n",
        "\n",
        "# Count the duplicate values\n",
        "duplicate_count = duplicates.value_counts()\n",
        "\n",
        "print(duplicate_count)"
      ]
    },
    {
      "cell_type": "code",
      "execution_count": null,
      "metadata": {
        "id": "_X6sJieEHHfl"
      },
      "outputs": [],
      "source": [
        "md.shape"
      ]
    },
    {
      "cell_type": "markdown",
      "metadata": {
        "id": "PoPl-ycgm1ru"
      },
      "source": [
        "#### Missing Values/Null Values"
      ]
    },
    {
      "cell_type": "code",
      "execution_count": null,
      "metadata": {
        "id": "GgHWkxvamxVg"
      },
      "outputs": [],
      "source": [
        "# Missing Values/Null Values Count\n",
        "md.isnull().sum()"
      ]
    },
    {
      "cell_type": "code",
      "execution_count": null,
      "metadata": {
        "id": "3q5wnI3om9sJ"
      },
      "outputs": [],
      "source": [
        "# Visualizing the missing values\n",
        "import missingno as ms\n",
        "ms.bar(md)\n",
        "plt.show()"
      ]
    },
    {
      "cell_type": "markdown",
      "metadata": {
        "id": "H0kj-8xxnORC"
      },
      "source": [
        "### What did you know about your dataset?"
      ]
    },
    {
      "cell_type": "markdown",
      "metadata": {
        "id": "gfoNAAC-nUe_"
      },
      "source": [
        "**There are total datasets which are:-**\n",
        "1) titles.csv\n",
        "2) credits.csv\n",
        "\n",
        "\n",
        "There are total 15 columns for titles dataset and 5 columns for credits dataset out of which one is common among both dataset which is id column.\n",
        "There are total 125130 rows before removing duplicates and after removing duplicates, unique values are 9868 rows with total 19 columns after merging both datasets.\n",
        "The seasons and age_certification has highest and second highest number of null values respectively.\n",
        "The columns with no null values are id, title, type, release_year, runtime, geners and production_countries.\n",
        "Description is the second lowest column with null values."
      ]
    },
    {
      "cell_type": "markdown",
      "metadata": {
        "id": "nA9Y7ga8ng1Z"
      },
      "source": [
        "## ***2. Understanding Your Variables***"
      ]
    },
    {
      "cell_type": "code",
      "execution_count": null,
      "metadata": {
        "id": "j7xfkqrt5Ag5"
      },
      "outputs": [],
      "source": [
        "# Dataset Columns\n",
        "md.columns"
      ]
    },
    {
      "cell_type": "code",
      "execution_count": null,
      "metadata": {
        "id": "DnOaZdaE5Q5t"
      },
      "outputs": [],
      "source": [
        "# Dataset Describe\n",
        "md.describe()"
      ]
    },
    {
      "cell_type": "markdown",
      "metadata": {
        "id": "PBTbrJXOngz2"
      },
      "source": [
        "### Variables Description"
      ]
    },
    {
      "cell_type": "markdown",
      "metadata": {
        "id": "aJV4KIxSnxay"
      },
      "source": [
        "**Title dataset**\n",
        "\n",
        "1. id-Title ID on JustWatch\n",
        "\n",
        "2. title Name of the title\n",
        "\n",
        "3. show_type - TV Show or Movie\n",
        "\n",
        "4. description - a brief description\n",
        "\n",
        "5. release year - release year\n",
        "\n",
        "6. age_certification the age certification\n",
        "\n",
        "7. runtime-length of an episode in show or length of a movie\n",
        "\n",
        "8. genres genre of show/movie\n",
        "\n",
        "9. production countries - Countries that produced the title\n",
        "\n",
        "10. seasons - No. of seasons if it's a show\n",
        "\n",
        "11. imdb id The title ID on IMDB\n",
        "\n",
        "12. imdb_score - IMDB score\n",
        "\n",
        "13. imdb votes Votes on IMDB\n",
        "\n",
        "14. tmdb popularity Popularity on IMDB\n",
        "\n",
        "15. tmdb score - Score on TMDB\n",
        "\n",
        "**Credits dataset**\n",
        "\n",
        "1. person_ID - The person ID on JustWatch\n",
        "\n",
        "2. id title ID on justWatch\n",
        "\n",
        "3. Name - Actor / Director's name\n",
        "\n",
        "4. character name The character's name\n",
        "\n",
        "5. role - Actor / Director"
      ]
    },
    {
      "cell_type": "markdown",
      "metadata": {
        "id": "u3PMJOP6ngxN"
      },
      "source": [
        "### Check Unique Values for each variable."
      ]
    },
    {
      "cell_type": "code",
      "execution_count": null,
      "metadata": {
        "id": "zms12Yq5n-jE"
      },
      "outputs": [],
      "source": [
        "# Check Unique Values for each variable.\n",
        "for x in md.columns:\n",
        "    print(f\"{x} - {md[x].nunique()}\")"
      ]
    },
    {
      "cell_type": "code",
      "execution_count": null,
      "metadata": {
        "id": "o_A71njuHHfu"
      },
      "outputs": [],
      "source": [
        "md[\"type\"].value_counts()"
      ]
    },
    {
      "cell_type": "code",
      "execution_count": null,
      "metadata": {
        "id": "6d9MkjqAHHfu"
      },
      "outputs": [],
      "source": [
        "md[\"id\"].unique()"
      ]
    },
    {
      "cell_type": "code",
      "execution_count": null,
      "metadata": {
        "id": "_I5PdAXvHHfu"
      },
      "outputs": [],
      "source": [
        "md[\"title\"].unique()"
      ]
    },
    {
      "cell_type": "code",
      "execution_count": null,
      "metadata": {
        "id": "Obfs1cs9HHfu"
      },
      "outputs": [],
      "source": [
        "md[\"age_certification\"].unique()"
      ]
    },
    {
      "cell_type": "code",
      "execution_count": null,
      "metadata": {
        "id": "ex_MP2-UHHfu"
      },
      "outputs": [],
      "source": [
        "md[\"runtime\"].unique()"
      ]
    },
    {
      "cell_type": "code",
      "execution_count": null,
      "metadata": {
        "id": "tcq0j2OKHHfv"
      },
      "outputs": [],
      "source": [
        "md[\"genres\"].unique()"
      ]
    },
    {
      "cell_type": "code",
      "execution_count": null,
      "metadata": {
        "id": "6GlptnmXHHfv"
      },
      "outputs": [],
      "source": [
        "md[\"production_countries\"].unique()"
      ]
    },
    {
      "cell_type": "code",
      "execution_count": null,
      "metadata": {
        "id": "B75aWWcZHHfv"
      },
      "outputs": [],
      "source": [
        "md[\"seasons\"].unique()"
      ]
    },
    {
      "cell_type": "code",
      "execution_count": null,
      "metadata": {
        "id": "orpPal6RHHfv"
      },
      "outputs": [],
      "source": [
        "md[\"imdb_id\"].unique()"
      ]
    },
    {
      "cell_type": "code",
      "execution_count": null,
      "metadata": {
        "id": "NJCS70gHHHfv"
      },
      "outputs": [],
      "source": [
        "md[\"imdb_votes\"].unique()"
      ]
    },
    {
      "cell_type": "code",
      "execution_count": null,
      "metadata": {
        "id": "NhyWcfwiHHfw"
      },
      "outputs": [],
      "source": [
        "md[\"imdb_score\"].unique()"
      ]
    },
    {
      "cell_type": "code",
      "execution_count": null,
      "metadata": {
        "id": "fbR2_7NRHHfw"
      },
      "outputs": [],
      "source": [
        "md[\"tmdb_popularity\"].unique()"
      ]
    },
    {
      "cell_type": "code",
      "execution_count": null,
      "metadata": {
        "id": "0dwxILewHHfw"
      },
      "outputs": [],
      "source": [
        "md[\"tmdb_score\"].unique()"
      ]
    },
    {
      "cell_type": "code",
      "execution_count": null,
      "metadata": {
        "id": "UneXdYPiHHfw"
      },
      "outputs": [],
      "source": [
        "md[\"person_id\"].unique()"
      ]
    },
    {
      "cell_type": "code",
      "execution_count": null,
      "metadata": {
        "id": "YRApjkO_HHfx"
      },
      "outputs": [],
      "source": [
        "md[\"name\"].unique()"
      ]
    },
    {
      "cell_type": "code",
      "execution_count": null,
      "metadata": {
        "id": "-lqUkNIaHHfx"
      },
      "outputs": [],
      "source": [
        "md[\"character\"].unique()"
      ]
    },
    {
      "cell_type": "code",
      "execution_count": null,
      "metadata": {
        "id": "JMD1JyEzHHfx"
      },
      "outputs": [],
      "source": [
        "md[\"role\"].unique()"
      ]
    },
    {
      "cell_type": "markdown",
      "metadata": {
        "id": "dauF4eBmngu3"
      },
      "source": [
        "## 3. ***Data Wrangling***"
      ]
    },
    {
      "cell_type": "markdown",
      "metadata": {
        "id": "bKJF3rekwFvQ"
      },
      "source": [
        "### Data Wrangling Code"
      ]
    },
    {
      "cell_type": "code",
      "execution_count": null,
      "metadata": {
        "id": "wk-9a2fpoLcV"
      },
      "outputs": [],
      "source": [
        "# Write your code to make your dataset analysis ready.\n",
        "md[[\"type\",\"seasons\"]][md.type=='SHOW'].isna().sum()"
      ]
    },
    {
      "cell_type": "code",
      "execution_count": null,
      "metadata": {
        "id": "fyjLPPfaHHfy"
      },
      "outputs": [],
      "source": [
        "md[[\"type\",\"seasons\"]][md.type=='MOVIE'].isna().sum()"
      ]
    },
    {
      "cell_type": "code",
      "execution_count": null,
      "metadata": {
        "id": "3fog1ZIoHHfy"
      },
      "outputs": [],
      "source": [
        "# filling up the seasons column which have null values with value 0\n",
        "md.fillna({'seasons': 0},inplace=True)"
      ]
    },
    {
      "cell_type": "code",
      "execution_count": null,
      "metadata": {
        "id": "BrB43CxFHHfy"
      },
      "outputs": [],
      "source": [
        "md.fillna({'description': 'Not Available'},inplace=True)"
      ]
    },
    {
      "cell_type": "code",
      "execution_count": null,
      "metadata": {
        "id": "l9wCRfXJHHfy"
      },
      "outputs": [],
      "source": [
        "md.fillna({'age_certification': 'Not Available'},inplace=True)"
      ]
    },
    {
      "cell_type": "code",
      "execution_count": null,
      "metadata": {
        "id": "FpkxXNZ5HHfy"
      },
      "outputs": [],
      "source": [
        "md.fillna({'imdb_id': 'unavailable'},inplace=True)"
      ]
    },
    {
      "cell_type": "code",
      "execution_count": null,
      "metadata": {
        "id": "rrA7kSAOHHfy"
      },
      "outputs": [],
      "source": [
        "md.fillna(0,inplace= True)"
      ]
    },
    {
      "cell_type": "code",
      "execution_count": null,
      "metadata": {
        "id": "vvUBHWiZHHfy"
      },
      "outputs": [],
      "source": [
        "md.drop_duplicates(inplace=True)"
      ]
    },
    {
      "cell_type": "code",
      "execution_count": null,
      "metadata": {
        "id": "h9DpxYzGHHfz"
      },
      "outputs": [],
      "source": [
        "md[\"genres\"]=md[\"genres\"].apply(ast.literal_eval)\n",
        "md[\"production_countries\"]=md[\"production_countries\"].apply(ast.literal_eval)"
      ]
    },
    {
      "cell_type": "code",
      "execution_count": null,
      "metadata": {
        "id": "TMUIIaWoHHfz"
      },
      "outputs": [],
      "source": [
        "mdu=md.explode(\"genres\").explode(\"production_countries\").reset_index(drop=True)"
      ]
    },
    {
      "cell_type": "code",
      "execution_count": null,
      "metadata": {
        "id": "p0E4abfVHHfz"
      },
      "outputs": [],
      "source": [
        "mdu.shape"
      ]
    },
    {
      "cell_type": "code",
      "execution_count": null,
      "metadata": {
        "id": "FCMwtMudHHfz"
      },
      "outputs": [],
      "source": [
        "mdu.fillna(\"unavailable\",inplace=True)"
      ]
    },
    {
      "cell_type": "code",
      "execution_count": null,
      "metadata": {
        "id": "kqq8a-E2HHfz"
      },
      "outputs": [],
      "source": [
        "mdu.isna().sum()"
      ]
    },
    {
      "cell_type": "code",
      "execution_count": null,
      "metadata": {
        "id": "NcIAStwIHHf0"
      },
      "outputs": [],
      "source": [
        "mdu.duplicated().sum()"
      ]
    },
    {
      "cell_type": "code",
      "execution_count": null,
      "metadata": {
        "id": "YmH-M70uHHf0"
      },
      "outputs": [],
      "source": [
        "mdu.production_countries=mdu.production_countries.replace(\"United State of America\",\"US\")\n",
        "mdu.production_countries=mdu.production_countries.replace(\"XX\",\"unavailable\")"
      ]
    },
    {
      "cell_type": "code",
      "execution_count": null,
      "metadata": {
        "id": "Okn01vs0HHf1"
      },
      "outputs": [],
      "source": [
        "#Dictionary mapping country codes to country names\n",
        "\n",
        "country_mapping = {'SU': 'Soviet Union', 'Unavailable': 'Unknown', 'IN': 'India', 'IT': 'Italy', 'JP': 'Japan', 'FR': 'France', 'HK': 'Hong Kong', 'ES': 'Spain', 'IL': 'Israel', 'AU': 'Australia',\n",
        "\n",
        "'CH': 'Switzerland', 'IE': 'Ireland', 'GR': 'Greece', 'CN': 'China', 'PH': 'Philippines', 'NL': 'Netherlands', 'YU': 'Yugoslavia', 'CI': 'Ivory Coast (Côte d Ivoire)' , 'PR': 'Puerto Rico', 'LI': 'Liechtenstein',\n",
        "\n",
        "'US': 'United States', 'GB': 'United Kingdom', 'MX': 'Mexico', 'CA': 'Canada', 'DE': 'Germany', 'ZA': 'South Africa', 'PT': 'Portugal', 'CL': 'Chile', 'SE': 'Sweden', 'BR': 'Brazil', 'DK': 'Denmark', 'NZ': 'New Zealand', 'RU': 'Russia', 'LU': 'Luxembourg', 'CZ': 'Czech Republic', 'FI': 'Finland', 'AT': 'Austria', 'SK': 'Slovakia', 'AR': 'Argentina', 'VE': 'Venezuela', 'TH': 'Thailand', 'PL': 'Poland', 'AE': 'United Arab Emirates', 'SI': 'Slovenia', 'BA': 'Bosnia and Herzegovina', 'ID': 'Indonesia', 'NO': 'Norway', 'AF': 'Afghanistan', 'IR': 'Iran', 'IS': 'Iceland', 'BG': 'Bulgaria', 'JM': 'Jamaica', 'RS': 'Serbia', 'SZ': 'Eswatini (Swaziland)', 'LT': 'Lithuania', 'TC': 'Turks and Caicos Islands',\n",
        "\n",
        "'KR': 'South Korea', 'XC': 'Czechoslovakia', 'HU': 'Hungary', 'TW': 'Taiwan', 'AN': 'Netherlands Antilles', 'MC': 'Monaco', 'CO': 'Colombia', 'RO': 'Romania', 'EG': 'Egypt', 'TR': 'Turkey', 'BE': 'Belgium',\n",
        "\n",
        "'SG': 'Singapore', 'UY': 'Uruguay', 'BO': 'Bolivia', 'UA': 'Ukraine', 'MY': 'Malaysia', 'TN': 'Tunisia','QA': 'Qatar', 'NG': 'Nigeria', 'KZ': 'Kazakhstan', 'GQ': 'Equatorial Guinea', 'MT': 'Malta', 'SO': 'Somalia', 'KE': 'Kenya', 'MA': 'Morocco', 'VN': 'Vietnam', 'BD': 'Bangladesh', 'FJ': 'Fiji', 'MN': 'Mongolia', 'UG': 'Uganda', 'TT': 'Trinidad and Tobago', 'PK': 'Pakistan', 'XK': 'Kosovo', 'PE': 'Peru', 'DO': 'Dominican Republic', 'SV': 'El Salvador', 'GE': 'Georgia', 'PS': 'Palestine', 'HR': 'Croatia', 'LV': 'Latvia', 'AQ': 'Antarctica', 'LB': 'Lebanon', 'KH': 'Cambodia', 'CR': 'Costa Rica', 'BM': 'Bermuda', '30': 'Jordan', 'PA': \"Panama\", 'AL' : 'Albania', 'CY' : 'Cyprus', 'CU' : 'Cuba', 'PY' : 'Paraguay', 'EE': 'Estonia', 'ET': 'Ethiopia', 'PF': 'French Polynesia', 'EC': 'Ecuador', '10': 'British Indian Ocean Territory', 'AM': 'Armenia',\n",
        "\n",
        "'SY': 'Syria', 'CM': 'Cameroon', 'LY': 'Libya' }\n",
        "\n",
        "mdu.production_countries = mdu.production_countries.replace(country_mapping)"
      ]
    },
    {
      "cell_type": "code",
      "execution_count": null,
      "metadata": {
        "id": "mRLsSaB2HHf1"
      },
      "outputs": [],
      "source": [
        "mdu.production_countries.unique()"
      ]
    },
    {
      "cell_type": "markdown",
      "metadata": {
        "id": "MSa1f5Uengrz"
      },
      "source": [
        "### What all manipulations have you done and insights you found?"
      ]
    },
    {
      "cell_type": "markdown",
      "metadata": {
        "id": "LbyXE7I1olp8"
      },
      "source": [
        "**Seasons have the highest null values and I observed that the null values are from type 'MOVIE'. As 'MOVIE' doesn't have seasons, the null values for this column are replaces by 0. The null values in age certification, description and imdb id are replaced by 'Not Available'. The null values in imdb_scores, imdb_votes, tmdb_popularity and tmdb_scores are replaced by 0. The entries in genres and production_countries are present as a list and I have splitted them into multiple examples with each genre and production_countires containing each element in the list. The modified dataset has 25819 entries and the duplicate entries have been removed.**"
      ]
    },
    {
      "cell_type": "markdown",
      "metadata": {
        "id": "GF8Ens_Soomf"
      },
      "source": [
        "## ***4. Data Vizualization, Storytelling & Experimenting with charts : Understand the relationships between variables***"
      ]
    },
    {
      "cell_type": "markdown",
      "metadata": {
        "id": "0wOQAZs5pc--"
      },
      "source": [
        "#### Chart - 1"
      ]
    },
    {
      "cell_type": "code",
      "execution_count": null,
      "metadata": {
        "id": "7v_ESjsspbW7"
      },
      "outputs": [],
      "source": [
        "# Chart - 1 visualization code\n",
        "# Chart - 1 visualization code\n",
        "# Barplot on genres - shows\n",
        "genre_plot = mdu[mdu.type=='SHOW'].groupby('genres')['genres'].count()\n",
        "genre_pl = pd.DataFrame(genre_plot)\n",
        "# Rename the count column\n",
        "genre_pl.rename(columns={'genres': 'count'}, inplace=True)\n",
        "genre_pl.reset_index(inplace=True)\n",
        "# Create a bar plot\n",
        "plt.figure(figsize=(10, 8))  # Adjust figure size\n",
        "sns.barplot(data=genre_pl, x=\"genres\", y=\"count\", hue=\"genres\", palette=\"deep\", legend=False)\n",
        "\n",
        "# Rotate x-axis labels for better readability\n",
        "plt.xticks(rotation=45, ha=\"right\")\n",
        "plt.xlabel(\"Genres\")\n",
        "plt.ylabel(\"Count\")\n",
        "plt.title(\"Genre Distribution of Shows\")\n",
        "\n",
        "# Show the plot\n",
        "plt.show()"
      ]
    },
    {
      "cell_type": "markdown",
      "metadata": {
        "id": "K5QZ13OEpz2H"
      },
      "source": [
        "##### 1. Why did you pick the specific chart?"
      ]
    },
    {
      "cell_type": "markdown",
      "metadata": {
        "id": "XESiWehPqBRc"
      },
      "source": [
        "This chart is been picked to have an idea about the distribution of genres based on shows present."
      ]
    },
    {
      "cell_type": "markdown",
      "metadata": {
        "id": "lQ7QKXXCp7Bj"
      },
      "source": [
        "##### 2. What is/are the insight(s) found from the chart?"
      ]
    },
    {
      "cell_type": "markdown",
      "metadata": {
        "id": "C_j1G7yiqdRP"
      },
      "source": [
        "Majority of shows belong to the drama genre, with second highest being comedy. There are more than 300 animated shows. There are more than 200 shows belonging to the genre action, documentation, family and scifi. There are over 100 crime, european, fantasy, reality and romance shows. Rest of the genres have very less count with western being least."
      ]
    },
    {
      "cell_type": "markdown",
      "metadata": {
        "id": "448CDAPjqfQr"
      },
      "source": [
        "##### 3. Will the gained insights help creating a positive business impact?\n",
        "Are there any insights that lead to negative growth? Justify with specific reason."
      ]
    },
    {
      "cell_type": "markdown",
      "metadata": {
        "id": "3cspy4FjqxJW"
      },
      "source": [
        "Yes. Majority of the people in general would prefer drama and comedy, so there would be more subscription count thereby ensuring positive growth."
      ]
    },
    {
      "cell_type": "markdown",
      "metadata": {
        "id": "KSlN3yHqYklG"
      },
      "source": [
        "#### Chart - 2"
      ]
    },
    {
      "cell_type": "code",
      "execution_count": null,
      "metadata": {
        "id": "R4YgtaqtYklH"
      },
      "outputs": [],
      "source": [
        "# Chart - 2 visualization code\n",
        "# Barplot on genres - movies\n",
        "genre_plot = mdu[mdu.type=='MOVIE'].groupby('genres')['genres'].count()\n",
        "genre_pl = pd.DataFrame(genre_plot)\n",
        "# Rename the count column\n",
        "genre_pl.rename(columns={'genres': 'count'}, inplace=True)\n",
        "genre_pl.reset_index(inplace=True)\n",
        "# Create a bar plot\n",
        "plt.figure(figsize=(10, 8))  # Adjust figure size\n",
        "sns.barplot(data=genre_pl, x=\"genres\", y=\"count\", hue=\"genres\", palette=\"deep\", legend=False)\n",
        "\n",
        "# Rotate x-axis labels for better readability\n",
        "plt.xticks(rotation=45, ha=\"right\")\n",
        "plt.xlabel(\"Genres\")\n",
        "plt.ylabel(\"Count\")\n",
        "plt.title(\"Genre Distribution of Movies\")\n",
        "\n",
        "# Show the plot\n",
        "plt.show()"
      ]
    },
    {
      "cell_type": "markdown",
      "metadata": {
        "id": "t6dVpIINYklI"
      },
      "source": [
        "##### 1. Why did you pick the specific chart?"
      ]
    },
    {
      "cell_type": "markdown",
      "metadata": {
        "id": "5aaW0BYyYklI"
      },
      "source": [
        "This chart is been picked to have an idea about the distribution of genres based on movies present."
      ]
    },
    {
      "cell_type": "markdown",
      "metadata": {
        "id": "ijmpgYnKYklI"
      },
      "source": [
        "##### 2. What is/are the insight(s) found from the chart?"
      ]
    },
    {
      "cell_type": "markdown",
      "metadata": {
        "id": "PSx9atu2YklI"
      },
      "source": [
        "Majority of the movies are of the genre drama with comedy being second highest likewise in shows. There are more than 2000 thriller movies. There are around 2000 movies belonging to action and romance genre. There are around 1000 movies that are crime-based. Rest of the genres are quite less with reality being the least."
      ]
    },
    {
      "cell_type": "markdown",
      "metadata": {
        "id": "-JiQyfWJYklI"
      },
      "source": [
        "##### 3. Will the gained insights help creating a positive business impact?\n",
        "Are there any insights that lead to negative growth? Justify with specific reason."
      ]
    },
    {
      "cell_type": "markdown",
      "metadata": {
        "id": "BcBbebzrYklV"
      },
      "source": [
        "Yes. Majority of the people in general would prefer drama and comedy. Also, there are a fairly high number of action, thriller, and romance, so there would be more subscription count thereby ensuring positive growth."
      ]
    },
    {
      "cell_type": "markdown",
      "metadata": {
        "id": "EM7whBJCYoAo"
      },
      "source": [
        "#### Chart - 3"
      ]
    },
    {
      "cell_type": "code",
      "execution_count": null,
      "metadata": {
        "id": "t6GMdE67YoAp"
      },
      "outputs": [],
      "source": [
        "mdup = mdu.drop(['genres','production_countries'],axis=1)\n",
        "mdup.duplicated().sum()"
      ]
    },
    {
      "cell_type": "code",
      "execution_count": null,
      "metadata": {
        "id": "7j_k-7LkHHf6"
      },
      "outputs": [],
      "source": [
        "md2 = md.drop(['genres','production_countries'],axis=1)\n",
        "md2.duplicated().sum()"
      ]
    },
    {
      "cell_type": "code",
      "execution_count": null,
      "metadata": {
        "id": "16_nD6xJHHf6"
      },
      "outputs": [],
      "source": [
        "# Chart - 3 visualization code\n",
        "# No. of shows released in each year\n",
        "\n",
        "md3 = md2[md2.type=='SHOW']\n",
        "md4 = md3.groupby('release_year')['release_year'].count()\n",
        "md4 = pd.DataFrame(md4)\n",
        "# Rename the count column\n",
        "md4.rename(columns={'release_year': 'count'}, inplace=True)\n",
        "md4.reset_index(inplace=True)\n",
        "# Adjust figure size\n",
        "plt.figure(figsize=(10, 8))\n",
        "sns.lineplot(data=md4, x=\"release_year\", y=\"count\", marker=\"o\", color=\"b\")\n",
        "# Rotate x-axis labels for better readability\n",
        "plt.xticks(rotation=45, ha=\"right\")\n",
        "plt.xlabel(\"Release Year\")\n",
        "plt.ylabel(\"Count\")\n",
        "plt.title(\"Release Year Distribution of Shows\")\n",
        "# Show the plot\n",
        "plt.show()"
      ]
    },
    {
      "cell_type": "markdown",
      "metadata": {
        "id": "fge-S5ZAYoAp"
      },
      "source": [
        "##### 1. Why did you pick the specific chart?"
      ]
    },
    {
      "cell_type": "markdown",
      "metadata": {
        "id": "5dBItgRVYoAp"
      },
      "source": [
        "To have an idea about the distribution of no. of shows released each year on Amazon Prime."
      ]
    },
    {
      "cell_type": "markdown",
      "metadata": {
        "id": "85gYPyotYoAp"
      },
      "source": [
        "##### 2. What is/are the insight(s) found from the chart?"
      ]
    },
    {
      "cell_type": "markdown",
      "metadata": {
        "id": "4jstXR6OYoAp"
      },
      "source": [
        "Before 2000, the no. of TV shows released in Prime were less, in fact less than 20. This is due to the fact that there was limited technology at that time. However, after 2000, there is a sharp increase in no. of shows. This was possible due to the advancement in technology, invention of smart phones and internet availability there enabling streaming in platforms. However in 2021, there is a sharp decrease from 140 to 60."
      ]
    },
    {
      "cell_type": "markdown",
      "metadata": {
        "id": "RoGjAbkUYoAp"
      },
      "source": [
        "##### 3. Will the gained insights help creating a positive business impact?\n",
        "Are there any insights that lead to negative growth? Justify with specific reason."
      ]
    },
    {
      "cell_type": "markdown",
      "metadata": {
        "id": "zfJ8IqMcYoAp"
      },
      "source": [
        "There is one insight that talks about negative growth. The no. of shows drastically reduced from 140 to 60 in 2021. If this decreasing trend continues, this might lead to less subscription count."
      ]
    },
    {
      "cell_type": "markdown",
      "metadata": {
        "id": "4Of9eVA-YrdM"
      },
      "source": [
        "#### Chart - 4"
      ]
    },
    {
      "cell_type": "code",
      "execution_count": null,
      "metadata": {
        "id": "irlUoxc8YrdO"
      },
      "outputs": [],
      "source": [
        "# Chart - 4 visualization code\n",
        "# Chart - 4 visualization code\n",
        "# No. of movies released in each year\n",
        "md5 = md2[md2.type=='MOVIE']\n",
        "md6 = md5.groupby('release_year')['release_year'].count()\n",
        "md6 = pd.DataFrame(md6)\n",
        "# Rename the count column\n",
        "md6.rename(columns={'release_year': 'count'}, inplace=True)\n",
        "md6.reset_index(inplace=True)\n",
        "plt.figure(figsize=(10, 8))  # Adjust figure size\n",
        "sns.lineplot(data=md6, x=\"release_year\", y=\"count\", marker=\"o\", color=\"r\")\n",
        "# Rotate x-axis labels for better readability\n",
        "plt.xticks(rotation=45, ha=\"right\")\n",
        "plt.xlabel(\"Release Year\")\n",
        "plt.ylabel(\"Count\")\n",
        "plt.title(\"Release Year Distribution of Movies\")\n",
        "# Show the plot\n",
        "plt.show()"
      ]
    },
    {
      "cell_type": "markdown",
      "metadata": {
        "id": "iky9q4vBYrdO"
      },
      "source": [
        "##### 1. Why did you pick the specific chart?"
      ]
    },
    {
      "cell_type": "markdown",
      "metadata": {
        "id": "aJRCwT6DYrdO"
      },
      "source": [
        "To have an idea about the distribution of no. of movies released each year on Amazon Prime."
      ]
    },
    {
      "cell_type": "markdown",
      "metadata": {
        "id": "F6T5p64dYrdO"
      },
      "source": [
        "##### 2. What is/are the insight(s) found from the chart?"
      ]
    },
    {
      "cell_type": "markdown",
      "metadata": {
        "id": "Xx8WAJvtYrdO"
      },
      "source": [
        "The chart follows a similar trend as that of shows. Before 2000, there were less than 100 movies. However, after 2000, there is a steep increase from 100 to 700 in 2018 due to advancements in technology and internet availability thereby enabling streaming much easier. There is an alternate decreasing and increasing trend from 2018 to 2021. There's a steep decrease from 2020 to 2021."
      ]
    },
    {
      "cell_type": "markdown",
      "metadata": {
        "id": "y-Ehk30pYrdP"
      },
      "source": [
        "##### 3. Will the gained insights help creating a positive business impact?\n",
        "Are there any insights that lead to negative growth? Justify with specific reason."
      ]
    },
    {
      "cell_type": "markdown",
      "metadata": {
        "id": "jLNxxz7MYrdP"
      },
      "source": [
        "The sharp decrease from 2020 to 2021 signifies a negative growth. If this continues, the subscription count would reduce drastically."
      ]
    },
    {
      "cell_type": "markdown",
      "metadata": {
        "id": "bamQiAODYuh1"
      },
      "source": [
        "#### Chart - 5"
      ]
    },
    {
      "cell_type": "code",
      "execution_count": null,
      "metadata": {
        "id": "TIJwrbroYuh3"
      },
      "outputs": [],
      "source": [
        "# Scatter plot runtime vs seasons (for shows)\n",
        "amazon_show1 = md[md.type=='SHOW']\n",
        "amazon_show2 = amazon_show1.drop(['genres','production_countries'],axis=1)\n",
        "amazon_show2.duplicated().sum()"
      ]
    },
    {
      "cell_type": "code",
      "execution_count": null,
      "metadata": {
        "id": "5HroT-GnHHf9"
      },
      "outputs": [],
      "source": [
        "# Chart - 5 visualization code\n",
        "plt.figure(figsize=(6,4))\n",
        "sns.scatterplot(x='runtime',y='seasons',data=amazon_show2,color='r')\n",
        "plt.xlabel('Runtime (of one episode)')\n",
        "plt.ylabel('Seasons')\n",
        "plt.title('Scatter Plot: Runtime vs Seasons')\n",
        "plt.show()"
      ]
    },
    {
      "cell_type": "markdown",
      "metadata": {
        "id": "QHF8YVU7Yuh3"
      },
      "source": [
        "##### 1. Why did you pick the specific chart?"
      ]
    },
    {
      "cell_type": "markdown",
      "metadata": {
        "id": "dcxuIMRPYuh3"
      },
      "source": [
        "Scatter plot is used to compare two numerical features. This is used to compare the relationship between runtime and seasons."
      ]
    },
    {
      "cell_type": "markdown",
      "metadata": {
        "id": "GwzvFGzlYuh3"
      },
      "source": [
        "##### 2. What is/are the insight(s) found from the chart?"
      ]
    },
    {
      "cell_type": "markdown",
      "metadata": {
        "id": "uyqkiB8YYuh3"
      },
      "source": [
        "The points are more clustered for Seasons 0-10, where the runtime is between 0 and 100. This suggests that most of the shows present here have less than 10 seasons. There are some shows whose seasons are in the range of 10-50 with runtime mostly between 0 and 60. There is one show with 50 seasons with a runtime of 120 and another show with one season and a runtime of approximately 158."
      ]
    },
    {
      "cell_type": "markdown",
      "metadata": {
        "id": "qYpmQ266Yuh3"
      },
      "source": [
        "##### 3. Will the gained insights help creating a positive business impact?\n",
        "Are there any insights that lead to negative growth? Justify with specific reason."
      ]
    },
    {
      "cell_type": "markdown",
      "metadata": {
        "id": "_WtzZ_hCYuh4"
      },
      "source": [
        "Yes. If the shows have atmost 10 seasons with each episode having an average runtime of 40 min, the chances of subscription count would be high."
      ]
    },
    {
      "cell_type": "markdown",
      "metadata": {
        "id": "OH-pJp9IphqM"
      },
      "source": [
        "#### Chart - 6"
      ]
    },
    {
      "cell_type": "code",
      "execution_count": null,
      "metadata": {
        "id": "kuRf4wtuphqN"
      },
      "outputs": [],
      "source": [
        "# Chart - 6 visualization code\n",
        "# Distribution of Age certification for shows\n",
        "amazon_show2 = md2[md2.type=='SHOW'].groupby('age_certification')['age_certification'].count()\n",
        "amazon_show2 = pd.DataFrame(amazon_show2)\n",
        "# Rename the count column\n",
        "amazon_show2.rename(columns={'age_certification': 'count'}, inplace=True)\n",
        "amazon_show2.reset_index(inplace=True)\n",
        "# Create a bar plot\n",
        "plt.figure(figsize=(8, 6))  # Adjust figure size\n",
        "sns.barplot(data=amazon_show2, x=\"age_certification\", y=\"count\", hue=\"age_certification\", palette=\"dark\", legend=False)\n",
        "\n",
        "# Rotate x-axis labels for better readability\n",
        "#plt.xticks(rotation=45, ha=\"right\")\n",
        "plt.xlabel(\"Age Certification\")\n",
        "plt.ylabel(\"Count\")\n",
        "plt.title(\"Distribution of Age Certification for Shows\")\n",
        "\n",
        "# Show the plot\n",
        "plt.show()"
      ]
    },
    {
      "cell_type": "markdown",
      "metadata": {
        "id": "bbFf2-_FphqN"
      },
      "source": [
        "##### 1. Why did you pick the specific chart?"
      ]
    },
    {
      "cell_type": "markdown",
      "metadata": {
        "id": "loh7H2nzphqN"
      },
      "source": [
        "To understand the age certification distribution for shows."
      ]
    },
    {
      "cell_type": "markdown",
      "metadata": {
        "id": "_ouA3fa0phqN"
      },
      "source": [
        "##### 2. What is/are the insight(s) found from the chart?"
      ]
    },
    {
      "cell_type": "markdown",
      "metadata": {
        "id": "VECbqPI7phqN"
      },
      "source": [
        "For most of the shows, age certification isn't available. Considering the ones that are available, majority of the shows fall in TV-MA category. The second highest is TV-14. Rest are quite less with TV-Y7 and TV-14 being the least. A decreasing trend is observed from TV-PG to TV-Y7."
      ]
    },
    {
      "cell_type": "markdown",
      "metadata": {
        "id": "Seke61FWphqN"
      },
      "source": [
        "##### 3. Will the gained insights help creating a positive business impact?\n",
        "Are there any insights that lead to negative growth? Justify with specific reason."
      ]
    },
    {
      "cell_type": "markdown",
      "metadata": {
        "id": "DW4_bGpfphqN"
      },
      "source": [
        "No insights can be given related to business impact as majority of age certification isn't available."
      ]
    },
    {
      "cell_type": "markdown",
      "metadata": {
        "id": "PIIx-8_IphqN"
      },
      "source": [
        "#### Chart - 7"
      ]
    },
    {
      "cell_type": "code",
      "execution_count": null,
      "metadata": {
        "id": "lqAIGUfyphqO"
      },
      "outputs": [],
      "source": [
        "# Chart - 7 visualization code\n",
        "# Distribution of Age certification for movie\n",
        "amazon_movies2 = md2[md2.type=='MOVIE'].groupby('age_certification')['age_certification'].count()\n",
        "amazon_movies2 = pd.DataFrame(amazon_movies2)\n",
        "# Rename the count column\n",
        "amazon_movies2.rename(columns={'age_certification': 'count'}, inplace=True)\n",
        "amazon_movies2.reset_index(inplace=True)\n",
        "# Create a bar plot\n",
        "plt.figure(figsize=(8, 6))  # Adjust figure size\n",
        "sns.barplot(data=amazon_movies2, x=\"age_certification\", y=\"count\", hue=\"age_certification\", palette=\"dark\", legend=False)\n",
        "\n",
        "# Rotate x-axis labels for better readability\n",
        "#plt.xticks(rotation=45, ha=\"right\")\n",
        "plt.xlabel(\"Age Certification\")\n",
        "plt.ylabel(\"Count\")\n",
        "plt.title(\"Distribution of Age Certification for Movies\")\n",
        "\n",
        "# Show the plot\n",
        "plt.show()"
      ]
    },
    {
      "cell_type": "markdown",
      "metadata": {
        "id": "t27r6nlMphqO"
      },
      "source": [
        "##### 1. Why did you pick the specific chart?"
      ]
    },
    {
      "cell_type": "markdown",
      "metadata": {
        "id": "iv6ro40sphqO"
      },
      "source": [
        "To understand the distribution of age certification for movies."
      ]
    },
    {
      "cell_type": "markdown",
      "metadata": {
        "id": "r2jJGEOYphqO"
      },
      "source": [
        "##### 2. What is/are the insight(s) found from the chart?"
      ]
    },
    {
      "cell_type": "markdown",
      "metadata": {
        "id": "Po6ZPi4hphqO"
      },
      "source": [
        "For majority of movies, the age certification isn't available. Out of the ones that are available, R category is the highest and NC-17 is the least. There are equal number of movies belonging to PG and PG-13 category and very less movies in G category."
      ]
    },
    {
      "cell_type": "markdown",
      "metadata": {
        "id": "b0JNsNcRphqO"
      },
      "source": [
        "##### 3. Will the gained insights help creating a positive business impact?\n",
        "Are there any insights that lead to negative growth? Justify with specific reason."
      ]
    },
    {
      "cell_type": "markdown",
      "metadata": {
        "id": "xvSq8iUTphqO"
      },
      "source": [
        "As majority of age certification isn't available, the given insights can't tell anything about business impact."
      ]
    },
    {
      "cell_type": "markdown",
      "metadata": {
        "id": "BZR9WyysphqO"
      },
      "source": [
        "#### Chart - 8"
      ]
    },
    {
      "cell_type": "code",
      "execution_count": null,
      "metadata": {
        "id": "SDCiTntMHHgA"
      },
      "outputs": [],
      "source": [
        "amazon_prod = mdu.drop('genres',axis=1)\n",
        "amazon_prod.duplicated().sum()"
      ]
    },
    {
      "cell_type": "code",
      "execution_count": null,
      "metadata": {
        "id": "OLY1xaMZHHgB"
      },
      "outputs": [],
      "source": [
        "amazon_prod.drop_duplicates(inplace=True)"
      ]
    },
    {
      "cell_type": "code",
      "execution_count": null,
      "metadata": {
        "id": "PzhssDCpHHgB"
      },
      "outputs": [],
      "source": [
        "amazon_prod.duplicated().sum()"
      ]
    },
    {
      "cell_type": "code",
      "execution_count": null,
      "metadata": {
        "id": "TdPTWpAVphqO"
      },
      "outputs": [],
      "source": [
        "# Chart - 8 visualization code\n",
        "# Distribution of production countries for shows\n",
        "amazon_shows3 = amazon_prod[amazon_prod.type=='SHOW'].groupby('production_countries')['production_countries'].count()\n",
        "amazon_shows3 = pd.DataFrame(amazon_shows3)\n",
        "amazon_shows3.rename(columns={'production_countries':'count'},inplace=True)\n",
        "amazon_shows3.reset_index(inplace=True)\n",
        "# Create a bar plot\n",
        "plt.figure(figsize=(8, 10))  # Adjust figure size\n",
        "sns.barplot(data=amazon_shows3, x=\"count\", y=\"production_countries\", hue=\"production_countries\", palette=\"dark\", legend=False)\n",
        "\n",
        "# Rotate x-axis labels for better readability\n",
        "plt.ylabel(\"Production Countries\")\n",
        "plt.xlabel(\"Count\")\n",
        "plt.title(\"Distribution of Production Countries for Shows\")\n",
        "\n",
        "# Show the plot\n",
        "plt.show()"
      ]
    },
    {
      "cell_type": "markdown",
      "metadata": {
        "id": "jj7wYXLtphqO"
      },
      "source": [
        "##### 1. Why did you pick the specific chart?"
      ]
    },
    {
      "cell_type": "markdown",
      "metadata": {
        "id": "Ob8u6rCTphqO"
      },
      "source": [
        "To analyse the distribution of production countries for shows."
      ]
    },
    {
      "cell_type": "markdown",
      "metadata": {
        "id": "eZrbJ2SmphqO"
      },
      "source": [
        "##### 2. What is/are the insight(s) found from the chart?"
      ]
    },
    {
      "cell_type": "markdown",
      "metadata": {
        "id": "mZtgC_hjphqO"
      },
      "source": [
        "United States have produced the highest number of shows on Amazon Prime. United Kingdom has also produced nearly 260 shows which is the second highest. For nearly 160 shows, the production country is unknown. Japan has produced more than 100 shows on Amazon Prime. Australia, Canada and China have produced a fairly good number of shows. Rest of the countries have produced have produced less number of shows."
      ]
    },
    {
      "cell_type": "markdown",
      "metadata": {
        "id": "rFu4xreNphqO"
      },
      "source": [
        "##### 3. Will the gained insights help creating a positive business impact?\n",
        "Are there any insights that lead to negative growth? Justify with specific reason."
      ]
    },
    {
      "cell_type": "markdown",
      "metadata": {
        "id": "ey_0qi68phqO"
      },
      "source": [
        "In countries where people prefer English shows, the chances of subscription count is high because more number of shows are produced from USA and UK."
      ]
    },
    {
      "cell_type": "markdown",
      "metadata": {
        "id": "YJ55k-q6phqO"
      },
      "source": [
        "#### Chart - 9"
      ]
    },
    {
      "cell_type": "code",
      "execution_count": null,
      "metadata": {
        "id": "B2aS4O1ophqO"
      },
      "outputs": [],
      "source": [
        "# Chart - 9 visualization code\n",
        "# Distribution of production countries for movies\n",
        "amazon_movies3 = amazon_prod[amazon_prod.type=='MOVIE'].groupby('production_countries')['production_countries'].count()\n",
        "amazon_movies3 = pd.DataFrame(amazon_movies3)\n",
        "amazon_movies3.rename(columns={'production_countries':'count'},inplace=True)\n",
        "amazon_movies3.reset_index(inplace=True)\n",
        "# Create a bar plot\n",
        "plt.figure(figsize=(10, 22))  # Adjust figure size\n",
        "sns.barplot(data=amazon_movies3, x=\"count\", y=\"production_countries\", hue=\"production_countries\", palette=\"dark\", legend=False)\n",
        "\n",
        "# Rotate x-axis labels for better readability\n",
        "plt.ylabel(\"Production Countries\")\n",
        "plt.xlabel(\"Count\")\n",
        "plt.title(\"Distribution of Production Countries for Movies\")\n",
        "\n",
        "# Show the plot\n",
        "plt.show()"
      ]
    },
    {
      "cell_type": "markdown",
      "metadata": {
        "id": "gCFgpxoyphqP"
      },
      "source": [
        "##### 1. Why did you pick the specific chart?"
      ]
    },
    {
      "cell_type": "markdown",
      "metadata": {
        "id": "TVxDimi2phqP"
      },
      "source": [
        "To analyse the distribution of production countries for movies."
      ]
    },
    {
      "cell_type": "markdown",
      "metadata": {
        "id": "OVtJsKN_phqQ"
      },
      "source": [
        "##### 2. What is/are the insight(s) found from the chart?"
      ]
    },
    {
      "cell_type": "markdown",
      "metadata": {
        "id": "ngGi97qjphqQ"
      },
      "source": [
        "Majority of the movies are produced by the United States. However, the second highest is India and not UK unlike for shows. For nearly 800 movies, the production countries are unknown. Canada, France and UK have produced a fairly good number of movies. Rest of the countries have produced produced less number of movies."
      ]
    },
    {
      "cell_type": "markdown",
      "metadata": {
        "id": "lssrdh5qphqQ"
      },
      "source": [
        "##### 3. Will the gained insights help creating a positive business impact?\n",
        "Are there any insights that lead to negative growth? Justify with specific reason."
      ]
    },
    {
      "cell_type": "markdown",
      "metadata": {
        "id": "tBpY5ekJphqQ"
      },
      "source": [
        "As majority of movies are produced by the United States, Amazon Prime would preferably attract an audience that prefers English movies. As this audience is quite high, the subscription count is high. Also, Bollywood and the South Indian film industy produce quite a large number of films, targeting a greater number of Indian audiences living in India and overseas. So, the chances of Indians subscribing are high. However, negative growth can be expected in other countries as the movies produced are very less and chances of subscription are less."
      ]
    },
    {
      "cell_type": "markdown",
      "metadata": {
        "id": "U2RJ9gkRphqQ"
      },
      "source": [
        "#### Chart - 10"
      ]
    },
    {
      "cell_type": "code",
      "execution_count": null,
      "metadata": {
        "id": "GM7a4YP4phqQ"
      },
      "outputs": [],
      "source": [
        "# Chart - 10 visualization code\n",
        "# Convert groupby Series to DataFrame and reset index\n",
        "df_counts = mdu.groupby([\"production_countries\", \"genres\"]).size().unstack(fill_value=0)\n",
        "df_relative = df_counts.div(df_counts.sum(axis=1), axis=0) * 100\n",
        "# Plot stacked bar chart\n",
        "fig, ax = plt.subplots(figsize=(12, 30))\n",
        "df_relative.plot(kind=\"barh\", stacked=True, colormap=\"plasma\", ax=ax)\n",
        "\n",
        "# Labels and title\n",
        "plt.xlabel(\"Country\")\n",
        "plt.ylabel(\"Percentage of Genres\")\n",
        "plt.title(\"Relative Distribution of Genres Across Countries\")\n",
        "plt.legend(title=\"Genre\", bbox_to_anchor=(1.05, 1), loc=\"upper left\")\n",
        "plt.xticks(rotation=90)  # Rotate country names for readability\n",
        "\n",
        "plt.show()"
      ]
    },
    {
      "cell_type": "markdown",
      "metadata": {
        "id": "1M8mcRywphqQ"
      },
      "source": [
        "##### 1. Why did you pick the specific chart?"
      ]
    },
    {
      "cell_type": "markdown",
      "metadata": {
        "id": "8agQvks0phqQ"
      },
      "source": [
        "Relative stacked bar plot is useful in under relative distribution of genres across countries."
      ]
    },
    {
      "cell_type": "markdown",
      "metadata": {
        "id": "tgIPom80phqQ"
      },
      "source": [
        "##### 2. What is/are the insight(s) found from the chart?"
      ]
    },
    {
      "cell_type": "markdown",
      "metadata": {
        "id": "Qp13pnNzphqQ"
      },
      "source": [
        "Most of the countries have a fair distribution across different genres which means there is a diverse production of films and shows and there are more audiences who prefer diverse genres and also resources for producing multiple films or shows in a year. However, if we observe in countries like Cameroon, Cambodia, Antartica, Armenia, Peru, Paraguay, Uganda, Syria, Jordan, Cyprus, Dominican Republic and Kazakastan, there is no fair distribution of all genres. There are only like 1 or 2 genres in each bar. This means that in these countries films or shows produced are quite less and either there aren't much people who prefer movies/shows or they prefer other streaming platforms over Amazon Prime."
      ]
    },
    {
      "cell_type": "markdown",
      "metadata": {
        "id": "JMzcOPDDphqR"
      },
      "source": [
        "##### 3. Will the gained insights help creating a positive business impact?\n",
        "Are there any insights that lead to negative growth? Justify with specific reason."
      ]
    },
    {
      "cell_type": "markdown",
      "metadata": {
        "id": "R4Ka1PC2phqR"
      },
      "source": [
        "The chances of subscription count is high mostly in countries where there is a production of diverse genres, thereby leading to a positive impact in business."
      ]
    },
    {
      "cell_type": "markdown",
      "metadata": {
        "id": "x-EpHcCOp1ci"
      },
      "source": [
        "#### Chart - 11"
      ]
    },
    {
      "cell_type": "code",
      "execution_count": null,
      "metadata": {
        "id": "mAQTIvtqp1cj"
      },
      "outputs": [],
      "source": [
        "# Chart - 11 visualization code\n",
        "# scatterplot imdb_score vs tmdb_score\n",
        "plt.figure(figsize=(6,4))\n",
        "sns.scatterplot(x='imdb_score',y='tmdb_score',data=md2,color='r')\n",
        "plt.xlabel('IMDB rating')\n",
        "plt.ylabel('TMDB rating')\n",
        "plt.title('Scatter Plot: IMDB vs TMDB rating')\n",
        "plt.show()"
      ]
    },
    {
      "cell_type": "markdown",
      "metadata": {
        "id": "X_VqEhTip1ck"
      },
      "source": [
        "##### 1. Why did you pick the specific chart?"
      ]
    },
    {
      "cell_type": "markdown",
      "metadata": {
        "id": "-vsMzt_np1ck"
      },
      "source": [
        "To compare IMDB rating and TMDB rating given for the corresponding shows and movies. Scatter plot is used to compare two numerical features."
      ]
    },
    {
      "cell_type": "markdown",
      "metadata": {
        "id": "8zGJKyg5p1ck"
      },
      "source": [
        "##### 2. What is/are the insight(s) found from the chart?"
      ]
    },
    {
      "cell_type": "markdown",
      "metadata": {
        "id": "ZYdMsrqVp1ck"
      },
      "source": [
        "A positive correlation is observed from the chart. However there are some datapoints for which IMDB is 0 but TMDB is from 0 to 10 and vice versa. This is because, some of the null values have been replaced with zero."
      ]
    },
    {
      "cell_type": "markdown",
      "metadata": {
        "id": "PVzmfK_Ep1ck"
      },
      "source": [
        "##### 3. Will the gained insights help creating a positive business impact?\n",
        "Are there any insights that lead to negative growth? Justify with specific reason."
      ]
    },
    {
      "cell_type": "markdown",
      "metadata": {
        "id": "druuKYZpp1ck"
      },
      "source": [
        "Including shows and movies that have high IMDB or TMDB rating increases the chances of subscription."
      ]
    },
    {
      "cell_type": "markdown",
      "metadata": {
        "id": "n3dbpmDWp1ck"
      },
      "source": [
        "#### Chart - 12"
      ]
    },
    {
      "cell_type": "code",
      "execution_count": null,
      "metadata": {
        "id": "bwevp1tKp1ck"
      },
      "outputs": [],
      "source": [
        "# Chart - 12 visualization code\n",
        "# scatter plot of imdb_votes and tmdb_popularity\n",
        "plt.figure(figsize=(6,4))\n",
        "sns.scatterplot(x='imdb_votes',y='tmdb_popularity',data=md2,color='g')\n",
        "plt.xlabel('IMDB votes')\n",
        "plt.ylabel('TMDB popularity')\n",
        "plt.title('Scatter Plot: IMDB votes vs TMDB popularity')\n",
        "plt.show()"
      ]
    },
    {
      "cell_type": "markdown",
      "metadata": {
        "id": "ylSl6qgtp1ck"
      },
      "source": [
        "##### 1. Why did you pick the specific chart?"
      ]
    },
    {
      "cell_type": "markdown",
      "metadata": {
        "id": "m2xqNkiQp1ck"
      },
      "source": [
        "To compare the relationship between IMDB votes and TMDB popularity."
      ]
    },
    {
      "cell_type": "markdown",
      "metadata": {
        "id": "ZWILFDl5p1ck"
      },
      "source": [
        "##### 2. What is/are the insight(s) found from the chart?"
      ]
    },
    {
      "cell_type": "markdown",
      "metadata": {
        "id": "x-lUsV2mp1ck"
      },
      "source": [
        "There are more points clustered where IMDB votes lie between (0-0.4)x1e6 and TMDB popularity lying between 0 and 200. Also, for most of the points, TMDB popularity lies between 0 and 200. There are 3 points for which IMDB is less and TMDB is quite high. This suggests that TMDB popularity is less and around 200 for most of the movies and shows even though IMDB votes are high for some shows."
      ]
    },
    {
      "cell_type": "markdown",
      "metadata": {
        "id": "M7G43BXep1ck"
      },
      "source": [
        "##### 3. Will the gained insights help creating a positive business impact?\n",
        "Are there any insights that lead to negative growth? Justify with specific reason."
      ]
    },
    {
      "cell_type": "markdown",
      "metadata": {
        "id": "5wwDJXsLp1cl"
      },
      "source": [
        "The insights provided here suggest that if people go by IMDB votes, then there would be more subscription count. On the other hand, negative growth may be seen if they go by the TMDB popularity reducing the subscription count and renewal."
      ]
    },
    {
      "cell_type": "markdown",
      "metadata": {
        "id": "Ag9LCva-p1cl"
      },
      "source": [
        "#### Chart - 13"
      ]
    },
    {
      "cell_type": "code",
      "execution_count": null,
      "metadata": {
        "id": "EUfxeq9-p1cl"
      },
      "outputs": [],
      "source": [
        "# Chart - 13 visualization code\n",
        "# scatter plot of imdb_score and imdb_votes\n",
        "plt.figure(figsize=(6,4))\n",
        "sns.scatterplot(x='imdb_score',y='imdb_votes',data=md2,color='b')\n",
        "plt.xlabel('IMDB score')\n",
        "plt.ylabel('IMDB votes')\n",
        "plt.title('Scatter Plot: IMDB score vs IMDB votes')\n",
        "plt.show()"
      ]
    },
    {
      "cell_type": "markdown",
      "metadata": {
        "id": "E6MkPsBcp1cl"
      },
      "source": [
        "##### 1. Why did you pick the specific chart?"
      ]
    },
    {
      "cell_type": "markdown",
      "metadata": {
        "id": "V22bRsFWp1cl"
      },
      "source": [
        "To make a comparison between IMDB score and IMDB votes."
      ]
    },
    {
      "cell_type": "markdown",
      "metadata": {
        "id": "2cELzS2fp1cl"
      },
      "source": [
        "##### 2. What is/are the insight(s) found from the chart?"
      ]
    },
    {
      "cell_type": "markdown",
      "metadata": {
        "id": "ozQPc2_Ip1cl"
      },
      "source": [
        "The points are clustered in the regions where IMDB votes are in the range of 0-400000. For some movies where the IMDB score is between 6 and 8, the IMDB votes are quite high."
      ]
    },
    {
      "cell_type": "markdown",
      "metadata": {
        "id": "3MPXvC8up1cl"
      },
      "source": [
        "##### 3. Will the gained insights help creating a positive business impact?\n",
        "Are there any insights that lead to negative growth? Justify with specific reason."
      ]
    },
    {
      "cell_type": "markdown",
      "metadata": {
        "id": "GL8l1tdLp1cl"
      },
      "source": [
        "People usually prefer shows and movies with high ratings (preferably from 7 to 10). As there are many shows and movies in this range with IMDB votes quite high, this would increase the subscription count."
      ]
    },
    {
      "cell_type": "markdown",
      "metadata": {
        "id": "NC_X3p0fY2L0"
      },
      "source": [
        "#### Chart - 14 - Correlation Heatmap"
      ]
    },
    {
      "cell_type": "code",
      "execution_count": null,
      "metadata": {
        "id": "xyC9zolEZNRQ"
      },
      "outputs": [],
      "source": [
        "# Correlation Heatmap visualization code\n",
        "amazon_tit_num = md2.select_dtypes(include='number')\n",
        "corr_mat = amazon_tit_num.corr()\n",
        "sns.heatmap(corr_mat,annot=True,cmap=\"rainbow\", fmt=\".2f\")\n",
        "plt.show()"
      ]
    },
    {
      "cell_type": "markdown",
      "metadata": {
        "id": "UV0SzAkaZNRQ"
      },
      "source": [
        "##### 1. Why did you pick the specific chart?"
      ]
    },
    {
      "cell_type": "markdown",
      "metadata": {
        "id": "DVPuT8LYZNRQ"
      },
      "source": [
        "Correlation matrix is used to compare numerical features in the dataset."
      ]
    },
    {
      "cell_type": "markdown",
      "metadata": {
        "id": "YPEH6qLeZNRQ"
      },
      "source": [
        "##### 2. What is/are the insight(s) found from the chart?"
      ]
    },
    {
      "cell_type": "markdown",
      "metadata": {
        "id": "bfSqtnDqZNRR"
      },
      "source": [
        "There is quite stronger negative correlation between runtime and seasons. There is a stronger positive correlation between imdb_score and tmdb_score, and likewise imdb_votes and tmdb_popularity."
      ]
    },
    {
      "cell_type": "markdown",
      "metadata": {
        "id": "q29F0dvdveiT"
      },
      "source": [
        "#### Chart - 15 - Pair Plot"
      ]
    },
    {
      "cell_type": "code",
      "execution_count": null,
      "metadata": {
        "id": "wRzWGvHuHHgL"
      },
      "outputs": [],
      "source": [
        "# Pair Plot visualization code\n",
        "amazon_tit_num = md2.select_dtypes(include='number')\n",
        "amazon_type = md2[['type']]\n",
        "amazon_tit_up = pd.concat([amazon_tit_num,amazon_type],axis=1)\n",
        "sns.pairplot(amazon_tit_up, hue=\"type\", palette=\"viridis\")\n",
        "plt.show()"
      ]
    },
    {
      "cell_type": "markdown",
      "metadata": {
        "id": "EXh0U9oCveiU"
      },
      "source": [
        "##### 1. Why did you pick the specific chart?"
      ]
    },
    {
      "cell_type": "markdown",
      "metadata": {
        "id": "eMmPjTByveiU"
      },
      "source": [
        "To compare the numerical features based on type 'show' and 'movie'."
      ]
    },
    {
      "cell_type": "markdown",
      "metadata": {
        "id": "22aHeOlLveiV"
      },
      "source": [
        "##### 2. What is/are the insight(s) found from the chart?"
      ]
    },
    {
      "cell_type": "markdown",
      "metadata": {
        "id": "uPQ8RGwHveiV"
      },
      "source": [
        "Some features could possibly have liner or non-linear relationships and random scatter between some features suggest that there is no correlation. IMDb score and TMDb score have a similar distribution as the KDE plot for both are quite similar. Runtime, seasons, IMDb votes and TMDb popularity are positively skewed. Some movies seem to dominate in votes and popularity. Some points are far from the main clusters, indicating highly popular movies/shows or exceptions in runtime/seasons. Movies might have higher IMDb votes and popularity, while shows could have wider variability in scores."
      ]
    },
    {
      "cell_type": "markdown",
      "metadata": {
        "id": "JcMwzZxoAimU"
      },
      "source": [
        "## **5. Solution to Business Objective**"
      ]
    },
    {
      "cell_type": "markdown",
      "metadata": {
        "id": "8G2x9gOozGDZ"
      },
      "source": [
        "#### What do you suggest the client to achieve Business Objective ?\n",
        "Explain Briefly."
      ]
    },
    {
      "cell_type": "markdown",
      "metadata": {
        "id": "pASKb0qOza21"
      },
      "source": [
        "1) Most of the genre comprises of drama and comedy. However crime, thriller, animation, action and sci-fi shows and movies are quite less. Including more shows in this genre can actually increase the number of subscribers.\n",
        "\n",
        "2) Including shows with lesser runtime for each episode can cater a huge audience.\n",
        "\n",
        "3) Based on the data presented in the relative stacked bar plot, once can tailor user based preferences to include more shows and movies in the preferred genre.\n",
        "\n",
        "4) Including shows and films with higher IMDB and TMDB rating would bring in more subscribers."
      ]
    },
    {
      "cell_type": "markdown",
      "metadata": {
        "id": "gCX9965dhzqZ"
      },
      "source": [
        "# **Conclusion**"
      ]
    },
    {
      "cell_type": "markdown",
      "metadata": {
        "id": "Fjb1IsQkh3yE"
      },
      "source": [
        "Most of the shows 🎬 and movies 🍿 available on Amazon Prime belong to the drama 🎭 and comedy 😂 genres. The United States 🇺🇸 is the leading producer of the majority of this content.\n",
        "\n",
        "Most of the shows have 10 seasons or fewer 📅, with the average runtime of each episode being around 40 minutes ⏳. There is a fair distribution of genres 🌍 across most countries, indicating a diverse content library.\n",
        "\n",
        "Additionally, IMDb ⭐ and TMDb 🎥 scores are positively correlated 📈. This means that if a movie or show has a high IMDb rating ⭐, it is likely to also have a high TMDb rating 🎥. This correlation suggests consistency in audience and critic evaluations across platforms. 🚀"
      ]
    }
  ],
  "metadata": {
    "colab": {
      "collapsed_sections": [
        "FJNUwmbgGyua",
        "w6K7xa23Elo4",
        "85gYPyotYoAp",
        "iky9q4vBYrdO",
        "F6T5p64dYrdO",
        "QHF8YVU7Yuh3",
        "GwzvFGzlYuh3",
        "qYpmQ266Yuh3",
        "_ouA3fa0phqN",
        "Seke61FWphqN",
        "r2jJGEOYphqO",
        "b0JNsNcRphqO",
        "jj7wYXLtphqO",
        "eZrbJ2SmphqO",
        "rFu4xreNphqO",
        "gCFgpxoyphqP",
        "OVtJsKN_phqQ",
        "lssrdh5qphqQ",
        "1M8mcRywphqQ",
        "tgIPom80phqQ",
        "JMzcOPDDphqR",
        "8zGJKyg5p1ck",
        "PVzmfK_Ep1ck",
        "ylSl6qgtp1ck",
        "ZWILFDl5p1ck",
        "M7G43BXep1ck",
        "E6MkPsBcp1cl",
        "2cELzS2fp1cl",
        "3MPXvC8up1cl",
        "EXh0U9oCveiU",
        "8G2x9gOozGDZ"
      ],
      "private_outputs": true,
      "provenance": []
    },
    "kernelspec": {
      "display_name": "Python 3",
      "name": "python3"
    },
    "language_info": {
      "codemirror_mode": {
        "name": "ipython",
        "version": 3
      },
      "file_extension": ".py",
      "mimetype": "text/x-python",
      "name": "python",
      "nbconvert_exporter": "python",
      "pygments_lexer": "ipython3",
      "version": "3.12.7"
    }
  },
  "nbformat": 4,
  "nbformat_minor": 0
}